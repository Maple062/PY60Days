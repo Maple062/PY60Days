{
 "cells": [
  {
   "cell_type": "code",
   "execution_count": null,
   "metadata": {},
   "outputs": [],
   "source": [
    "1. 在速度較慢的時候，可以先從哪邊開始檢查？\n",
    "可以嚐試使用其他文件格式讀取，盡量使用python內建函式\n",
    "如果需要使用自己的函式，那使用agg操作會比較快速\n",
    "\n",
    "2. 資料過⼤時應採取什麼⽅式讓記憶體占⽤量下降？\n",
    "可以將資料欄位型態降級\n",
    "像是符點數float64改為float32，可減少1/2的佔用量\n",
    "整數型態int改為uint可減少正數資料佔用量"
   ]
  }
 ],
 "metadata": {
  "kernelspec": {
   "display_name": "Python 3",
   "language": "python",
   "name": "python3"
  },
  "language_info": {
   "codemirror_mode": {
    "name": "ipython",
    "version": 3
   },
   "file_extension": ".py",
   "mimetype": "text/x-python",
   "name": "python",
   "nbconvert_exporter": "python",
   "pygments_lexer": "ipython3",
   "version": "3.8.5"
  }
 },
 "nbformat": 4,
 "nbformat_minor": 4
}
