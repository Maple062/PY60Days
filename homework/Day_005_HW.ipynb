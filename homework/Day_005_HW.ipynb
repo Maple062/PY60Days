{
 "cells": [
  {
   "cell_type": "markdown",
   "metadata": {
    "id": "oef8c2jr-PZY"
   },
   "source": [
    "作業目標<br>\n",
    "計算有缺失值的資料，統計量實作<br>\n",
    "作業重點<br>\n",
    "當遇到缺失值有函式可以處理，不須額外寫程式刪除<br>\n",
    "計算統計量時不能出現缺失值"
   ]
  },
  {
   "cell_type": "markdown",
   "metadata": {
    "id": "4YgL8NF4-Ru3"
   },
   "source": [
    "題目:<br>\n",
    "english_score = np.array([55,89,76,65,48,70])<br>\n",
    "math_score = np.array([60,85,60,68,np.nan,60])<br>\n",
    "chinese_score = np.array([65,90,82,72,66,77])<br>\n",
    "上3列共六位同學的英文、數學、國文成績，第一個元素代表第一位同學，舉例第一位同學英文55分、數學60分、國文65分，今天第五位同學因某原因沒來考試，導致數學成績缺值，運用上列數據回答下列問題。<br>\n",
    "1. 請計算各科成績平均、最大值、最小值、標準差，其中數學缺一筆資料可忽略?\n",
    "2. 第五位同學補考數學後成績為55，請計算補考後數學成績平均、最大值、最小值、標準差?\n",
    "3. 用補考後資料找出與國文成績相關係數最高的學科?"
   ]
  },
  {
   "cell_type": "code",
   "execution_count": 5,
   "metadata": {
    "executionInfo": {
     "elapsed": 617,
     "status": "ok",
     "timestamp": 1609854566856,
     "user": {
      "displayName": "献竤黃",
      "photoUrl": "",
      "userId": "07529243043474362942"
     },
     "user_tz": -480
    },
    "id": "QwsKU8qO-RK7"
   },
   "outputs": [],
   "source": [
    "import numpy as np"
   ]
  },
  {
   "cell_type": "code",
   "execution_count": 65,
   "metadata": {
    "executionInfo": {
     "elapsed": 1016,
     "status": "ok",
     "timestamp": 1609854567261,
     "user": {
      "displayName": "献竤黃",
      "photoUrl": "",
      "userId": "07529243043474362942"
     },
     "user_tz": -480
    },
    "id": "B5BqDQAe_czh"
   },
   "outputs": [],
   "source": [
    "english_score = np.array([55,89,76,65,48,70])\n",
    "math_score = np.array([60,85,60,68,np.nan,60])\n",
    "chinese_score = np.array([65,90,82,72,66,77])"
   ]
  },
  {
   "cell_type": "code",
   "execution_count": 66,
   "metadata": {
    "executionInfo": {
     "elapsed": 1005,
     "status": "ok",
     "timestamp": 1609854567262,
     "user": {
      "displayName": "献竤黃",
      "photoUrl": "",
      "userId": "07529243043474362942"
     },
     "user_tz": -480
    },
    "id": "K3tUA6u9aI3N"
   },
   "outputs": [
    {
     "name": "stdout",
     "output_type": "stream",
     "text": [
      "英文最大值89\n",
      "英文最小值48\n",
      "英文平均數67.16666666666667\n",
      "英文標準差13.433995020924426\n",
      "數學最大值85.0\n",
      "數學最小值60.0\n",
      "數學平均數64.66666666666667\n",
      "數學標準差9.707728879609279\n",
      "國文最大值90\n",
      "國文最小值65\n",
      "國文平均數75.33333333333333\n",
      "國文標準差8.825468196582484\n"
     ]
    }
   ],
   "source": [
    "#1. 請計算各科成績平均、最大值、最小值、標準差，其中數學缺一筆資料可忽略?\n",
    "en_max=np.max(english_score)\n",
    "en_min=np.min(english_score)\n",
    "en_med=np.mean(english_score)\n",
    "en_std=np.std(english_score)\n",
    "print(\"英文最大值\"+str(en_max))\n",
    "print(\"英文最小值\"+str(en_min))\n",
    "print(\"英文平均數\"+str(en_med))\n",
    "print(\"英文標準差\"+str(en_std))\n",
    "ma_max=np.nanmax(math_score)\n",
    "ma_min=np.nanmin(math_score)\n",
    "ma_mea=np.nanmean(math_score)\n",
    "ma_std=np.nanstd(math_score)\n",
    "print(\"數學最大值\"+str(ma_max))\n",
    "print(\"數學最小值\"+str(ma_min))\n",
    "print(\"數學平均數\"+str(ma_med))\n",
    "print(\"數學標準差\"+str(ma_std))\n",
    "ch_max=np.max(chinese_score)\n",
    "ch_min=np.min(chinese_score)\n",
    "ch_mea=np.mean(chinese_score)\n",
    "ch_std=np.std(chinese_score)\n",
    "print(\"國文最大值\"+str(ch_max))\n",
    "print(\"國文最小值\"+str(ch_min))\n",
    "print(\"國文平均數\"+str(ch_med))\n",
    "print(\"國文標準差\"+str(ch_std))"
   ]
  },
  {
   "cell_type": "code",
   "execution_count": 67,
   "metadata": {
    "executionInfo": {
     "elapsed": 996,
     "status": "ok",
     "timestamp": 1609854567262,
     "user": {
      "displayName": "献竤黃",
      "photoUrl": "",
      "userId": "07529243043474362942"
     },
     "user_tz": -480
    },
    "id": "mXjDzvSrbLlf"
   },
   "outputs": [
    {
     "name": "stdout",
     "output_type": "stream",
     "text": [
      "數學最大值85\n",
      "數學最小值55\n",
      "數學平均數64.66666666666667\n",
      "數學標準差9.860132971832694\n"
     ]
    }
   ],
   "source": [
    "#2. 第五位同學補考數學後成績為55，請計算補考後數學成績平均、最大值、最小值、標準差?\n",
    "math_score = np.array([60,85,60,68,55,60])\n",
    "ma_max=np.max(math_score)\n",
    "ma_min=np.min(math_score)\n",
    "ma_mea=np.mean(math_score)\n",
    "ma_std=np.std(math_score)\n",
    "print(\"數學最大值\"+str(ma_max))\n",
    "print(\"數學最小值\"+str(ma_min))\n",
    "print(\"數學平均數\"+str(ma_med))\n",
    "print(\"數學標準差\"+str(ma_std))"
   ]
  },
  {
   "cell_type": "code",
   "execution_count": 5,
   "metadata": {
    "executionInfo": {
     "elapsed": 989,
     "status": "ok",
     "timestamp": 1609854567264,
     "user": {
      "displayName": "献竤黃",
      "photoUrl": "",
      "userId": "07529243043474362942"
     },
     "user_tz": -480
    },
    "id": "SaGolKx0cKoU"
   },
   "outputs": [],
   "source": [
    "#3. 用補考後資料找出與國文成績相關係數最高的學科?"
   ]
  },
  {
   "cell_type": "code",
   "execution_count": 71,
   "metadata": {
    "executionInfo": {
     "elapsed": 987,
     "status": "ok",
     "timestamp": 1609854567264,
     "user": {
      "displayName": "献竤黃",
      "photoUrl": "",
      "userId": "07529243043474362942"
     },
     "user_tz": -480
    },
    "id": "fTNlLZ9Pzyiy"
   },
   "outputs": [
    {
     "name": "stdout",
     "output_type": "stream",
     "text": [
      "國英相關係數[[1.         0.97792828]\n",
      " [0.97792828 1.        ]]\n",
      "國數相關係數[[1.         0.74056803]\n",
      " [0.74056803 1.        ]]\n"
     ]
    }
   ],
   "source": [
    "english_score = np.array([55,89,76,65,48,70])\n",
    "math_score = np.array([60,85,60,68,55,60])\n",
    "chinese_score = np.array([65,90,82,72,66,77])\n",
    "en_ch=np.corrcoef(english_score,chinese_score)\n",
    "ma_ch=np.corrcoef(math_score,chinese_score)\n",
    "print(\"國英相關係數\"+str(en_ch))\n",
    "print(\"國數相關係數\"+str(ma_ch))"
   ]
  }
 ],
 "metadata": {
  "colab": {
   "authorship_tag": "ABX9TyPtywwDR7TsGGEOMGYLDT5h",
   "collapsed_sections": [],
   "name": "作業Hong題目.ipynb",
   "provenance": []
  },
  "kernelspec": {
   "display_name": "Python 3",
   "language": "python",
   "name": "python3"
  },
  "language_info": {
   "codemirror_mode": {
    "name": "ipython",
    "version": 3
   },
   "file_extension": ".py",
   "mimetype": "text/x-python",
   "name": "python",
   "nbconvert_exporter": "python",
   "pygments_lexer": "ipython3",
   "version": "3.8.5"
  }
 },
 "nbformat": 4,
 "nbformat_minor": 1
}
